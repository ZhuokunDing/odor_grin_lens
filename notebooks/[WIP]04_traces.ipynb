{
 "cells": [
  {
   "cell_type": "code",
   "execution_count": 1,
   "metadata": {
    "tags": []
   },
   "outputs": [],
   "source": [
    "from pathlib import Path\n",
    "\n",
    "# datascience libs\n",
    "import numpy as np\n",
    "import pandas as pd\n",
    "import matplotlib.pyplot as plt\n",
    "import seaborn as sns\n",
    "from scipy import io\n",
    "\n",
    "# PCA libs\n",
    "from sklearn.decomposition import PCA\n",
    "from sklearn.preprocessing import StandardScaler\n",
    "    "
   ]
  },
  {
   "cell_type": "code",
   "execution_count": 2,
   "metadata": {
    "tags": []
   },
   "outputs": [],
   "source": [
    "DATA_DIR = Path('../data/matfiles_meantraces by odor by mouse')"
   ]
  },
  {
   "cell_type": "code",
   "execution_count": 3,
   "metadata": {},
   "outputs": [
    {
     "name": "stdout",
     "output_type": "stream",
     "text": [
      "../data/matfiles_meantraces by odor by mouse/4animal_meantracesbyodorpermouse_032023afcondition.mat\n",
      "../data/matfiles_meantraces by odor by mouse/4animals_meantracesbyodorpermouse_020123bfcondition.mat\n",
      "../data/matfiles_meantraces by odor by mouse/4animals_meantracesbyodorbymouse_020923afcondition.mat\n",
      "../data/matfiles_meantraces by odor by mouse/4animal_meantracesbyodorpermouse_031023bfcondition.mat\n",
      "../data/matfiles_meantraces by odor by mouse/.ipynb_checkpoints\n"
     ]
    }
   ],
   "source": [
    "for file in DATA_DIR.iterdir():\n",
    "    print(file)"
   ]
  },
  {
   "cell_type": "code",
   "execution_count": 4,
   "metadata": {},
   "outputs": [],
   "source": [
    "mat_file_test = io.loadmat(DATA_DIR / '4animal_meantracesbyodorpermouse_032023afcondition.mat')\n",
    "array = np.concatenate([m.transpose(1,0,2) for m in mat_file_test['meantracesmice'].squeeze()])  # neuron x time x odor\n"
   ]
  },
  {
   "cell_type": "code",
   "execution_count": 41,
   "metadata": {},
   "outputs": [],
   "source": [
    "array = np.reshape(array, (array.shape[0], -1))"
   ]
  }
 ],
 "metadata": {
  "kernelspec": {
   "display_name": "Python 3 (ipykernel)",
   "language": "python",
   "name": "python3"
  },
  "language_info": {
   "codemirror_mode": {
    "name": "ipython",
    "version": 3
   },
   "file_extension": ".py",
   "mimetype": "text/x-python",
   "name": "python",
   "nbconvert_exporter": "python",
   "pygments_lexer": "ipython3",
   "version": "3.8.16"
  }
 },
 "nbformat": 4,
 "nbformat_minor": 4
}
