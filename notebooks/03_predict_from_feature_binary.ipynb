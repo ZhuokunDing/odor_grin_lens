{
 "cells": [
  {
   "cell_type": "code",
   "execution_count": 86,
   "metadata": {
    "tags": []
   },
   "outputs": [],
   "source": [
    "# %%\n",
    "import pathlib\n",
    "import pandas as pd\n",
    "import numpy as np\n",
    "from itertools import combinations\n",
    "import re\n",
    "\n",
    "# plotting libraries\n",
    "from matplotlib import pyplot as plt\n",
    "import seaborn as sns\n",
    "import seaborn.objects as so\n",
    "from seaborn import axes_style\n",
    "\n",
    "# machine learning libraries\n",
    "from sklearn.linear_model import LogisticRegression\n",
    "from sklearn.dummy import DummyClassifier\n",
    "from sklearn.preprocessing import StandardScaler\n",
    "from sklearn.pipeline import make_pipeline\n",
    "from sklearn.model_selection import train_test_split, RepeatedStratifiedKFold\n",
    "from sklearn.metrics import (\n",
    "    confusion_matrix,\n",
    "    precision_score,\n",
    "    recall_score,\n",
    "    f1_score,\n",
    "    classification_report,\n",
    "    accuracy_score,\n",
    ")\n",
    "\n",
    "# stats\n",
    "import statsmodels.api as sm\n",
    "from statsmodels import stats as sms\n",
    "import statsmodels.formula.api as smf\n",
    "from scipy import stats\n",
    "\n",
    "import logging\n",
    "\n",
    "logger = logging.getLogger()\n",
    "logger.setLevel(logging.INFO)"
   ]
  },
  {
   "cell_type": "code",
   "execution_count": 152,
   "metadata": {
    "tags": []
   },
   "outputs": [],
   "source": [
    "# %%\n",
    "# Parameters\n",
    "DATA_DIRS = [\"../data/A156A150A155_bfcondition\",\n",
    "     \"../data/A156Nt_afcondition\"\n",
    "]\n",
    "RNG_SEED = 1\n",
    "ODOR_MAPPING = {\n",
    "    2: \"Butanol\",\n",
    "    3: \"Pentanol\",\n",
    "    4: \"Hexanol\",\n",
    "    5: \"Heptanol\",\n",
    "    6: \"Octanol\",\n",
    "    \n",
    "}\n",
    "\n"
   ]
  },
  {
   "cell_type": "raw",
   "metadata": {},
   "source": [
    "\n"
   ]
  },
  {
   "cell_type": "code",
   "execution_count": 153,
   "metadata": {
    "tags": []
   },
   "outputs": [],
   "source": [
    "# %%\n",
    "# Utility function for model fitting\n",
    "def logistic_regression_performance(data, rng=np.random.default_rng(0)):\n",
    "    \"\"\"\n",
    "    Fit a vanilla logistic regression and report f1 score per odor and overall accuracy score\n",
    "    Fitted model is not saved or returned!\n",
    "\n",
    "    Args:\n",
    "        data: pd.DataFrame  # dataframe with columns 'odor', 'exp' and a number of 'feature' columns,\n",
    "        'odor' column is the prediction target,\n",
    "        columns prefixed with 'feature' will be used as predictors of the regression model,\n",
    "        'exp' column is kept for record keeping purposes\n",
    "        rng: numpy.random._generator.Generator  # random generator used in cross validation, fix it to reproduce the same results\n",
    "\n",
    "    Return:\n",
    "        f1score_df: pd.DataFrame  # dataframe recording cross validated f1 scores, each row is one cross validation sample\n",
    "        accuracy_df: pd.DataFrame  # dataframe recording cross validated accuracy scores\n",
    "    \"\"\"\n",
    "    # split data to X and y\n",
    "    X = data.filter(like=\"feature\").to_numpy()\n",
    "    y = data.odor.to_numpy()\n",
    "    # data quality control\n",
    "    unique_odor, counts = np.unique(y, return_counts=True)\n",
    "    assert len(np.unique(counts)) == 1, \"Imbalanced experimental design!\"\n",
    "    assert data.exp.nunique() == 1, \"More than one experiment is found!\"\n",
    "    assert data.isna().sum().sum() == 0, \"NaN values found in dataset!\"\n",
    "    # log information about the dataset\n",
    "    logging.info(\n",
    "        \"There are %d trials where %d odors are presented %d times\",\n",
    "        len(y),\n",
    "        len(unique_odor),\n",
    "        np.unique(counts)[0],\n",
    "    )\n",
    "    logging.info(\n",
    "        \"%d features were extracted from population neural responses\",\n",
    "        X.shape[1],\n",
    "    )\n",
    "    # configure model\n",
    "    model = make_pipeline(\n",
    "        StandardScaler(), LogisticRegression()\n",
    "    )  # classification pipeline combines a standardization step (substract by mean and divide by std) and a vanilla logistic regression model\n",
    "    # estimate variance of model performance through 5x2 cross validation\n",
    "    cv = RepeatedStratifiedKFold(\n",
    "        n_splits=2, n_repeats=5, random_state=np.random.RandomState(rng.bit_generator)\n",
    "    )\n",
    "    f1score = []\n",
    "    accuracy = []\n",
    "    true_labels = []  # List to store true labels\n",
    "    pred_labels = []  # List to store predicted labels\n",
    "    for train_idx, test_idx in cv.split(X, y):\n",
    "        # train model on the training set\n",
    "        model = model.fit(X[train_idx], y[train_idx])\n",
    "        true_labels.extend(y[test_idx])\n",
    "        # obtain predicted labels\n",
    "        pred_labels.extend(model.predict(X[test_idx]))\n",
    "        # evaluate on test set\n",
    "        f1score.append(f1_score(y[test_idx], model.predict(X[test_idx]), average=None))\n",
    "        accuracy.append(accuracy_score(y[test_idx], model.predict(X[test_idx])))\n",
    "    f1score = np.stack(f1score)\n",
    "    accuracy = np.stack(accuracy)\n",
    "    f1score_df = pd.DataFrame(\n",
    "        data=f1score,\n",
    "        index=np.arange(f1score.shape[0]),\n",
    "        columns=model.classes_,\n",
    "    )\n",
    "    f1score_df = pd.melt(f1score_df, var_name=\"odor\", value_name=\"f1_score\")\n",
    "    f1score_df[\"odor\"] = pd.Categorical(f1score_df[\"odor\"])\n",
    "    f1score_df[\"exp\"] = data.exp.unique()[0]\n",
    "    accuracy_df = pd.Series(accuracy).to_frame(\"accuracy\")\n",
    "    accuracy_df[\"exp\"] = data.exp.unique()[0]\n",
    "    return f1score_df, accuracy_df, true_labels, pred_labels\n",
    "\n"
   ]
  },
  {
   "cell_type": "code",
   "execution_count": 154,
   "metadata": {
    "tags": []
   },
   "outputs": [
    {
     "name": "stderr",
     "output_type": "stream",
     "text": [
      "INFO:root:loaded dataset: ../data/A156A150A155_bfcondition/A155R1_tracesfeature_odorbfcondition_3SECAFODORONSET_v3.csv\n",
      "INFO:root:loaded dataset: ../data/A156A150A155_bfcondition/A156Nt_tracesfeature_odorbfcondition_3SECAFODORONSET_v3.csv\n",
      "INFO:root:loaded dataset: ../data/A156A150A155_bfcondition/A150Nt_tracesfeature_odorbfcondition_3SECAFODORONSET_v3.csv\n",
      "INFO:root:loaded dataset: ../data/A156A150A155_bfcondition/A150R1_tracesfeature_odorbfcondition_3SECAFODORONSET_v3.csv\n",
      "INFO:root:loaded dataset: ../data/A156Nt_afcondition/A156Nt_tracesfeature_odorafcondition_3SECAFODORONSET_v3.csv\n"
     ]
    }
   ],
   "source": [
    "# %%\n",
    "# random seed used for all downstream analysis\n",
    "rng = np.random.default_rng(RNG_SEED)\n",
    "# load data\n",
    "data = []\n",
    "for d in DATA_DIRS:\n",
    "    for filename in pathlib.Path(d).glob(\"*.csv\"):\n",
    "        _data = pd.read_csv(filename, header=None)  # load csv file\n",
    "        _data.columns = [f\"feature_{i}\" for i in range(len(_data.columns) - 1)] + [\n",
    "            \"odor\"\n",
    "        ]  # rename columns\n",
    "        _data[\"exp\"] = filename.stem  # log experiment name as file name\n",
    "        _data[\"animal\"] = filename.stem.split(\"_\")[0]\n",
    "        # extract before or after condition with regex (two characters after \"odor\")\n",
    "        _data[\"condition\"] = re.findall(r\"(?<=odor).{2}\", filename.stem)[0]\n",
    "        # average over time per neuron\n",
    "        _data = _data.rename(columns=lambda col: col.replace('feature', 'raw_feature'))\n",
    "        neuron = _data.filter(like=\"feature\").to_numpy()\n",
    "        neuron = neuron.reshape([60, -1, 45]).mean(axis=-1)\n",
    "        for i, n in enumerate(neuron.T):\n",
    "            _data[f'feature_{i}'] = n\n",
    "        _data = _data.drop(columns=_data.filter(like=\"raw_feature\").columns)\n",
    "        \n",
    "        data.append(_data)\n",
    "        logging.info(f\"loaded dataset: {filename}\")\n",
    "data = pd.concat(data)\n"
   ]
  },
  {
   "cell_type": "code",
   "execution_count": 134,
   "metadata": {
    "tags": []
   },
   "outputs": [
    {
     "data": {
      "text/plain": [
       "(60, 1215)"
      ]
     },
     "execution_count": 134,
     "metadata": {},
     "output_type": "execute_result"
    }
   ],
   "source": [
    "np.shape(neuron)\n",
    "\n"
   ]
  },
  {
   "cell_type": "code",
   "execution_count": 155,
   "metadata": {
    "tags": []
   },
   "outputs": [
    {
     "name": "stderr",
     "output_type": "stream",
     "text": [
      "INFO:root:Training models for A150Nt_tracesfeature_odorbfcondition_3SECAFODORONSET_v3:\n",
      "INFO:root:There are 20 trials where 2 odors are presented 10 times\n",
      "INFO:root:14 features were extracted from population neural responses\n",
      "INFO:root:There are 20 trials where 2 odors are presented 10 times\n",
      "INFO:root:14 features were extracted from population neural responses\n",
      "INFO:root:There are 20 trials where 2 odors are presented 10 times\n",
      "INFO:root:14 features were extracted from population neural responses\n",
      "INFO:root:There are 20 trials where 2 odors are presented 10 times\n",
      "INFO:root:14 features were extracted from population neural responses\n",
      "INFO:root:There are 20 trials where 2 odors are presented 10 times\n",
      "INFO:root:14 features were extracted from population neural responses\n",
      "INFO:root:There are 20 trials where 2 odors are presented 10 times\n",
      "INFO:root:14 features were extracted from population neural responses\n",
      "INFO:root:There are 20 trials where 2 odors are presented 10 times\n",
      "INFO:root:14 features were extracted from population neural responses\n",
      "INFO:root:There are 20 trials where 2 odors are presented 10 times\n",
      "INFO:root:14 features were extracted from population neural responses\n",
      "INFO:root:There are 20 trials where 2 odors are presented 10 times\n",
      "INFO:root:14 features were extracted from population neural responses\n",
      "INFO:root:There are 20 trials where 2 odors are presented 10 times\n",
      "INFO:root:14 features were extracted from population neural responses\n",
      "INFO:root:Training models for A150R1_tracesfeature_odorbfcondition_3SECAFODORONSET_v3:\n",
      "INFO:root:There are 20 trials where 2 odors are presented 10 times\n",
      "INFO:root:7 features were extracted from population neural responses\n",
      "INFO:root:There are 20 trials where 2 odors are presented 10 times\n",
      "INFO:root:7 features were extracted from population neural responses\n",
      "INFO:root:There are 20 trials where 2 odors are presented 10 times\n",
      "INFO:root:7 features were extracted from population neural responses\n",
      "INFO:root:There are 20 trials where 2 odors are presented 10 times\n",
      "INFO:root:7 features were extracted from population neural responses\n",
      "INFO:root:There are 20 trials where 2 odors are presented 10 times\n",
      "INFO:root:7 features were extracted from population neural responses\n",
      "INFO:root:There are 20 trials where 2 odors are presented 10 times\n",
      "INFO:root:7 features were extracted from population neural responses\n",
      "INFO:root:There are 20 trials where 2 odors are presented 10 times\n",
      "INFO:root:7 features were extracted from population neural responses\n",
      "INFO:root:There are 20 trials where 2 odors are presented 10 times\n",
      "INFO:root:7 features were extracted from population neural responses\n",
      "INFO:root:There are 20 trials where 2 odors are presented 10 times\n",
      "INFO:root:7 features were extracted from population neural responses\n",
      "INFO:root:There are 20 trials where 2 odors are presented 10 times\n",
      "INFO:root:7 features were extracted from population neural responses\n",
      "INFO:root:Training models for A155R1_tracesfeature_odorbfcondition_3SECAFODORONSET_v3:\n",
      "INFO:root:There are 20 trials where 2 odors are presented 10 times\n",
      "INFO:root:27 features were extracted from population neural responses\n",
      "INFO:root:There are 20 trials where 2 odors are presented 10 times\n",
      "INFO:root:27 features were extracted from population neural responses\n",
      "INFO:root:There are 20 trials where 2 odors are presented 10 times\n",
      "INFO:root:27 features were extracted from population neural responses\n",
      "INFO:root:There are 20 trials where 2 odors are presented 10 times\n",
      "INFO:root:27 features were extracted from population neural responses\n",
      "INFO:root:There are 20 trials where 2 odors are presented 10 times\n",
      "INFO:root:27 features were extracted from population neural responses\n",
      "INFO:root:There are 20 trials where 2 odors are presented 10 times\n",
      "INFO:root:27 features were extracted from population neural responses\n",
      "INFO:root:There are 20 trials where 2 odors are presented 10 times\n",
      "INFO:root:27 features were extracted from population neural responses\n",
      "INFO:root:There are 20 trials where 2 odors are presented 10 times\n",
      "INFO:root:27 features were extracted from population neural responses\n",
      "INFO:root:There are 20 trials where 2 odors are presented 10 times\n",
      "INFO:root:27 features were extracted from population neural responses\n",
      "INFO:root:There are 20 trials where 2 odors are presented 10 times\n",
      "INFO:root:27 features were extracted from population neural responses\n",
      "INFO:root:Training models for A156Nt_tracesfeature_odorafcondition_3SECAFODORONSET_v3:\n",
      "INFO:root:There are 20 trials where 2 odors are presented 10 times\n",
      "INFO:root:23 features were extracted from population neural responses\n",
      "INFO:root:There are 20 trials where 2 odors are presented 10 times\n",
      "INFO:root:23 features were extracted from population neural responses\n",
      "INFO:root:There are 20 trials where 2 odors are presented 10 times\n",
      "INFO:root:23 features were extracted from population neural responses\n",
      "INFO:root:There are 20 trials where 2 odors are presented 10 times\n",
      "INFO:root:23 features were extracted from population neural responses\n",
      "INFO:root:There are 20 trials where 2 odors are presented 10 times\n",
      "INFO:root:23 features were extracted from population neural responses\n",
      "INFO:root:There are 20 trials where 2 odors are presented 10 times\n",
      "INFO:root:23 features were extracted from population neural responses\n",
      "INFO:root:There are 20 trials where 2 odors are presented 10 times\n",
      "INFO:root:23 features were extracted from population neural responses\n",
      "INFO:root:There are 20 trials where 2 odors are presented 10 times\n",
      "INFO:root:23 features were extracted from population neural responses\n",
      "INFO:root:There are 20 trials where 2 odors are presented 10 times\n",
      "INFO:root:23 features were extracted from population neural responses\n",
      "INFO:root:There are 20 trials where 2 odors are presented 10 times\n",
      "INFO:root:23 features were extracted from population neural responses\n",
      "INFO:root:Training models for A156Nt_tracesfeature_odorbfcondition_3SECAFODORONSET_v3:\n",
      "INFO:root:There are 20 trials where 2 odors are presented 10 times\n",
      "INFO:root:22 features were extracted from population neural responses\n",
      "INFO:root:There are 20 trials where 2 odors are presented 10 times\n",
      "INFO:root:22 features were extracted from population neural responses\n",
      "INFO:root:There are 20 trials where 2 odors are presented 10 times\n",
      "INFO:root:22 features were extracted from population neural responses\n",
      "INFO:root:There are 20 trials where 2 odors are presented 10 times\n",
      "INFO:root:22 features were extracted from population neural responses\n",
      "INFO:root:There are 20 trials where 2 odors are presented 10 times\n",
      "INFO:root:22 features were extracted from population neural responses\n",
      "INFO:root:There are 20 trials where 2 odors are presented 10 times\n",
      "INFO:root:22 features were extracted from population neural responses\n",
      "INFO:root:There are 20 trials where 2 odors are presented 10 times\n",
      "INFO:root:22 features were extracted from population neural responses\n",
      "INFO:root:There are 20 trials where 2 odors are presented 10 times\n",
      "INFO:root:22 features were extracted from population neural responses\n",
      "INFO:root:There are 20 trials where 2 odors are presented 10 times\n",
      "INFO:root:22 features were extracted from population neural responses\n",
      "INFO:root:There are 20 trials where 2 odors are presented 10 times\n",
      "INFO:root:22 features were extracted from population neural responses\n"
     ]
    }
   ],
   "source": [
    "# %%\n",
    "# Initialize lists to store performance metrics for all odor combinations\n",
    "all_f1score_df = []\n",
    "all_accuracy_df = []\n",
    "\n",
    "\n",
    "for (exp, animal, condition), exp_data in data.groupby([\"exp\", \"animal\", \"condition\"]):\n",
    "    logging.info(f\"Training models for {exp}:\")\n",
    "    exp_data = exp_data.dropna(axis=1)  # drop feature columns containing nans\n",
    "    exp_data = exp_data.query(\"odor != 1\")  # remove odor 1\n",
    "    #exp_data = exp_data.query(\"odor != 2\")  # remove odor 2\n",
    "    #exp_data = exp_data.query(\"odor != 4\")  # remove odor 10\n",
    "    #exp_data = exp_data.query(\"odor != 5\")  # remove odor 10\n",
    "    #exp_data = exp_data.query(\"odor != 9\")  # remove odor 10\n",
    "    #exp_data = exp_data.query(\"odor != 8\")  # remove odor 11\n",
    "    #exp_data = exp_data.query(\"odor != 10\")  # remove odor 10\n",
    "    #exp_data = exp_data.query(\"odor != 11\")  # remove odor 11\n",
    "    \n",
    "    exp_data[\"odor\"] = exp_data[\"odor\"].map(ODOR_MAPPING)  # map odor numbers to names\n",
    "    exp_data[\"odor\"] = pd.Categorical(\n",
    "        exp_data[\"odor\"], categories=ODOR_MAPPING.values()\n",
    "    )\n",
    "    # Loop over all possible combinations of 2 out of 4 odors\n",
    "    for odor1, odor2 in combinations(exp_data.odor.unique(), 2):\n",
    "        # Prepare data for logistic regression\n",
    "        odor_data = exp_data.query(\"odor == @odor1 | odor == @odor2\")\n",
    "        # Get model performance using logistic_regression_performance function\n",
    "        f1score_df, accuracy_df, _, _ = logistic_regression_performance(odor_data, rng)\n",
    "        # Append the results to the lists\n",
    "        all_f1score_df.append(\n",
    "            f1score_df.assign(\n",
    "                odor1=odor1,\n",
    "                odor2=odor2,\n",
    "                comp=f\"{odor1}\\n{odor2}\",\n",
    "                animal=animal,\n",
    "                condition=condition,\n",
    "            )\n",
    "        )\n",
    "        all_accuracy_df.append(\n",
    "            accuracy_df.assign(\n",
    "                odor1=odor1,\n",
    "                odor2=odor2,\n",
    "                comp=f\"{odor1}\\n{odor2}\",\n",
    "                animal=animal,\n",
    "                condition=condition,\n",
    "            )\n",
    "        )\n",
    "\n",
    "# Concatenate all results into single DataFrames\n",
    "all_f1score_df = pd.concat(all_f1score_df)\n",
    "all_accuracy_df = pd.concat(all_accuracy_df)\n",
    "#all_accuracy_df.to_csv(\n",
    "    #\"../notebooks/predict_from_feature_binary_accuracy.csv\", index=False\n",
    "#)\n"
   ]
  },
  {
   "cell_type": "code",
   "execution_count": 80,
   "metadata": {
    "tags": []
   },
   "outputs": [],
   "source": [
    "##for10 odorset\n",
    "mean_accuracy_df = (\n",
    "    all_accuracy_df.groupby([\"animal\",\"comp\"])[\"accuracy\"]\n",
    "    .mean()\n",
    "    .reset_index()\n",
    ")\n",
    "# correct the odor pair order\n",
    "def from_odor_to_num(odor):\n",
    "    # reverse mapping of odor names to numbers\n",
    "    return list(ODOR_MAPPING.keys())[list(ODOR_MAPPING.values()).index(odor)]\n",
    "\n",
    "\n",
    "def from_odor_pair_to_num(odor_pair):\n",
    "    # reverse mapping of odor pairs to numbers\n",
    "    return \"\".join([str(from_odor_to_num(odor)) for odor in odor_pair.split(\"\\n\")])\n",
    "\n",
    "all_odor_pairs = all_f1score_df[\"comp\"].unique()\n",
    "mean_accuracy_df[\"comp\"] = pd.Categorical(\n",
    "    mean_accuracy_df[\"comp\"],\n",
    "    categories=all_f1score_df[\"comp\"].unique()[\n",
    "        np.argsort([\n",
    "            from_odor_pair_to_num(odor_pair)\n",
    "            for odor_pair in all_f1score_df[\"comp\"].unique()\n",
    "        ])\n",
    "    ],\n",
    "    ordered=True,\n",
    ")"
   ]
  },
  {
   "cell_type": "code",
   "execution_count": 156,
   "metadata": {
    "tags": []
   },
   "outputs": [
    {
     "data": {
      "text/plain": [
       "<Axes: xlabel='comp', ylabel='accuracy'>"
      ]
     },
     "execution_count": 156,
     "metadata": {},
     "output_type": "execute_result"
    },
    {
     "data": {
      "image/png": "[encoded data removed]",
      "text/plain": [
       "<Figure size 640x480 with 1 Axes>"
      ]
     },
     "metadata": {},
     "output_type": "display_data"
    }
   ],
   "source": [
    "# %%\n",
    "# visualization\n",
    "sns.barplot(\n",
    "    data=mean_accuracy_df,\n",
    "    x=\"comp\",\n",
    "    y=\"accuracy\",\n",
    "\n",
    "    # add black frame around bars\n",
    "    edgecolor=\"black\",\n",
    "    errorbar=\"se\",\n",
    "    # add caps to error bars\n",
    "    capsize=0.3,\n",
    ")\n",
    "sns.stripplot(\n",
    "    data=mean_accuracy_df,\n",
    "    x=\"comp\",\n",
    "    y=\"accuracy\",\n",
    "  \n",
    "    \n",
    "    dodge=True,\n",
    ")\n",
    "\n"
   ]
  },
  {
   "cell_type": "code",
   "execution_count": 157,
   "metadata": {
    "tags": []
   },
   "outputs": [],
   "source": [
    "mean_accuracy_df = (\n",
    "    all_accuracy_df.groupby([\"animal\", \"comp\", \"condition\"])[\"accuracy\"]\n",
    "    .mean()\n",
    "    .reset_index()\n",
    ")\n",
    "\n",
    "\n",
    "# correct the odor pair order\n",
    "def from_odor_to_num(odor):\n",
    "    # reverse mapping of odor names to numbers\n",
    "    return list(ODOR_MAPPING.keys())[list(ODOR_MAPPING.values()).index(odor)]\n",
    "                     \n",
    "\n",
    "def from_odor_pair_to_num(odor_pair):\n",
    "    # reverse mapping of odor pairs to numbers\n",
    "    return \"\".join([str(from_odor_to_num(odor)) for odor in odor_pair.split(\"\\n\")])\n",
    "\n",
    "\n",
    "all_odor_pairs = all_f1score_df[\"comp\"].unique()\n",
    "mean_accuracy_df[\"comp\"] = pd.Categorical(\n",
    "    mean_accuracy_df[\"comp\"],\n",
    "    categories=all_f1score_df[\"comp\"].unique()[\n",
    "        np.argsort([\n",
    "            from_odor_pair_to_num(odor_pair)\n",
    "            for odor_pair in all_f1score_df[\"comp\"].unique()\n",
    "        ])\n",
    "    ],\n",
    "    ordered=True,\n",
    ")\n",
    "\n"
   ]
  },
  {
   "cell_type": "code",
   "execution_count": 161,
   "metadata": {
    "tags": []
   },
   "outputs": [],
   "source": [
    "mean_accuracy_df.to_csv('A150A155A156_bfcondition_accuracy_A156Nt_afcondition_accuracy.csv', index=False)"
   ]
  },
  {
   "cell_type": "code",
   "execution_count": 159,
   "metadata": {
    "tags": []
   },
   "outputs": [
    {
     "name": "stdout",
     "output_type": "stream",
     "text": [
      "    animal                comp condition  accuracy\n",
      "30  A156Nt   Butanol\\nHeptanol        af      0.61\n",
      "32  A156Nt    Butanol\\nHexanol        af      0.70\n",
      "34  A156Nt    Butanol\\nOctanol        af      0.61\n",
      "36  A156Nt   Butanol\\nPentanol        af      0.54\n",
      "38  A156Nt   Heptanol\\nOctanol        af      0.58\n",
      "40  A156Nt   Hexanol\\nHeptanol        af      0.84\n",
      "42  A156Nt    Hexanol\\nOctanol        af      0.73\n",
      "44  A156Nt  Pentanol\\nHeptanol        af      0.52\n",
      "46  A156Nt   Pentanol\\nHexanol        af      0.87\n",
      "48  A156Nt   Pentanol\\nOctanol        af      0.66\n",
      "    animal                comp condition  accuracy\n",
      "0   A150Nt   Butanol\\nHeptanol        bf      0.57\n",
      "1   A150Nt    Butanol\\nHexanol        bf      0.63\n",
      "2   A150Nt    Butanol\\nOctanol        bf      0.48\n",
      "3   A150Nt   Butanol\\nPentanol        bf      0.67\n",
      "4   A150Nt   Heptanol\\nOctanol        bf      0.49\n",
      "5   A150Nt   Hexanol\\nHeptanol        bf      0.52\n",
      "6   A150Nt    Hexanol\\nOctanol        bf      0.44\n",
      "7   A150Nt  Pentanol\\nHeptanol        bf      0.63\n",
      "8   A150Nt   Pentanol\\nHexanol        bf      0.69\n",
      "9   A150Nt   Pentanol\\nOctanol        bf      0.58\n",
      "10  A150R1   Butanol\\nHeptanol        bf      0.43\n",
      "11  A150R1    Butanol\\nHexanol        bf      0.69\n",
      "12  A150R1    Butanol\\nOctanol        bf      0.65\n",
      "13  A150R1   Butanol\\nPentanol        bf      0.61\n",
      "14  A150R1   Heptanol\\nOctanol        bf      0.53\n",
      "15  A150R1   Hexanol\\nHeptanol        bf      0.56\n",
      "16  A150R1    Hexanol\\nOctanol        bf      0.65\n",
      "17  A150R1  Pentanol\\nHeptanol        bf      0.54\n",
      "18  A150R1   Pentanol\\nHexanol        bf      0.63\n",
      "19  A150R1   Pentanol\\nOctanol        bf      0.73\n",
      "20  A155R1   Butanol\\nHeptanol        bf      0.63\n",
      "21  A155R1    Butanol\\nHexanol        bf      0.65\n",
      "22  A155R1    Butanol\\nOctanol        bf      0.49\n",
      "23  A155R1   Butanol\\nPentanol        bf      0.45\n",
      "24  A155R1   Heptanol\\nOctanol        bf      0.49\n",
      "25  A155R1   Hexanol\\nHeptanol        bf      0.53\n",
      "26  A155R1    Hexanol\\nOctanol        bf      0.52\n",
      "27  A155R1  Pentanol\\nHeptanol        bf      0.58\n",
      "28  A155R1   Pentanol\\nHexanol        bf      0.62\n",
      "29  A155R1   Pentanol\\nOctanol        bf      0.52\n",
      "31  A156Nt   Butanol\\nHeptanol        bf      0.50\n",
      "33  A156Nt    Butanol\\nHexanol        bf      0.50\n",
      "35  A156Nt    Butanol\\nOctanol        bf      0.60\n",
      "37  A156Nt   Butanol\\nPentanol        bf      0.57\n",
      "39  A156Nt   Heptanol\\nOctanol        bf      0.51\n",
      "41  A156Nt   Hexanol\\nHeptanol        bf      0.58\n",
      "43  A156Nt    Hexanol\\nOctanol        bf      0.56\n",
      "45  A156Nt  Pentanol\\nHeptanol        bf      0.58\n",
      "47  A156Nt   Pentanol\\nHexanol        bf      0.40\n",
      "49  A156Nt   Pentanol\\nOctanol        bf      0.41\n"
     ]
    }
   ],
   "source": [
    "bfall=mean_accuracy_df.query(\"condition == 'bf'\")[\"accuracy\"]\n",
    "afall=mean_accuracy_df.query(\"condition == 'af'\")[\"accuracy\"]\n",
    "print(mean_accuracy_df.query(\"condition == 'af'\"))\n",
    "print(mean_accuracy_df.query(\"condition == 'bf'\"))"
   ]
  },
  {
   "cell_type": "code",
   "execution_count": 160,
   "metadata": {
    "tags": []
   },
   "outputs": [
    {
     "ename": "AssertionError",
     "evalue": "",
     "output_type": "error",
     "traceback": [
      "\u001b[0;31m---------------------------------------------------------------------------\u001b[0m",
      "\u001b[0;31mAssertionError\u001b[0m                            Traceback (most recent call last)",
      "Cell \u001b[0;32mIn[160], line 7\u001b[0m\n\u001b[1;32m      5\u001b[0m ttest_results \u001b[38;5;241m=\u001b[39m []\n\u001b[1;32m      6\u001b[0m \u001b[38;5;28;01mfor\u001b[39;00m comp, group \u001b[38;5;129;01min\u001b[39;00m mean_accuracy_df\u001b[38;5;241m.\u001b[39mgroupby(\u001b[38;5;124m\"\u001b[39m\u001b[38;5;124mcomp\u001b[39m\u001b[38;5;124m\"\u001b[39m):\n\u001b[0;32m----> 7\u001b[0m     \u001b[38;5;28;01massert\u001b[39;00m group[\u001b[38;5;124m'\u001b[39m\u001b[38;5;124mcondition\u001b[39m\u001b[38;5;124m'\u001b[39m]\u001b[38;5;241m.\u001b[39mnunique() \u001b[38;5;241m==\u001b[39m \u001b[38;5;241m1\u001b[39m\n\u001b[1;32m      8\u001b[0m     ttest_results\u001b[38;5;241m.\u001b[39mappend(\n\u001b[1;32m      9\u001b[0m         stats\u001b[38;5;241m.\u001b[39mttest_1samp(group\u001b[38;5;241m.\u001b[39maccuracy, \u001b[38;5;241m0.5\u001b[39m)  \u001b[38;5;66;03m# 0.5 is the baseline performance for a balanced binary classification problem\u001b[39;00m\n\u001b[1;32m     10\u001b[0m     )\n\u001b[1;32m     11\u001b[0m ttest_results \u001b[38;5;241m=\u001b[39m pd\u001b[38;5;241m.\u001b[39mDataFrame(\n\u001b[1;32m     12\u001b[0m     ttest_results, columns\u001b[38;5;241m=\u001b[39m[\u001b[38;5;124m\"\u001b[39m\u001b[38;5;124mt_statistic\u001b[39m\u001b[38;5;124m\"\u001b[39m, \u001b[38;5;124m\"\u001b[39m\u001b[38;5;124mp_value\u001b[39m\u001b[38;5;124m\"\u001b[39m], index\u001b[38;5;241m=\u001b[39mall_odor_pairs\n\u001b[1;32m     13\u001b[0m )\n",
      "\u001b[0;31mAssertionError\u001b[0m: "
     ]
    }
   ],
   "source": [
    "# %%\n",
    "# stats\n",
    "# Perform t-test to test whether each binary model is performing significantly better than baseline\n",
    "import statsmodels.stats.api as sms\n",
    "ttest_results = []\n",
    "for comp, group in mean_accuracy_df.groupby(\"comp\"):\n",
    "    assert group['condition'].nunique() == 1\n",
    "    ttest_results.append(\n",
    "        stats.ttest_1samp(group.accuracy, 0.5)  # 0.5 is the baseline performance for a balanced binary classification problem\n",
    "    )\n",
    "ttest_results = pd.DataFrame(\n",
    "    ttest_results, columns=[\"t_statistic\", \"p_value\"], index=all_odor_pairs\n",
    ")\n",
    "ttest_results['p_value_adjusted'] = sms.multipletests(ttest_results.p_value, alpha=0.05, method='hs')[1]\n",
    "print(ttest_results)\n",
    "# ttest_results.to_csv(\"\")"
   ]
  },
  {
   "cell_type": "markdown",
   "metadata": {},
   "source": [
    "# Below is only for comparing different conditions"
   ]
  },
  {
   "cell_type": "code",
   "execution_count": 94,
   "metadata": {
    "tags": []
   },
   "outputs": [],
   "source": [
    "mean_accuracy_df = (\n",
    "    all_accuracy_df.groupby([\"animal\", \"comp\", \"condition\"])[\"accuracy\"]\n",
    "    .mean()\n",
    "    .reset_index()\n",
    ")\n",
    "\n",
    "\n",
    "# correct the odor pair order\n",
    "def from_odor_to_num(odor):\n",
    "    # reverse mapping of odor names to numbers\n",
    "    return list(ODOR_MAPPING.keys())[list(ODOR_MAPPING.values()).index(odor)]\n",
    "\n",
    "\n",
    "def from_odor_pair_to_num(odor_pair):\n",
    "    # reverse mapping of odor pairs to numbers\n",
    "    return \"\".join([str(from_odor_to_num(odor)) for odor in odor_pair.split(\"\\n\")])\n",
    "\n",
    "\n",
    "all_odor_pairs = all_f1score_df[\"comp\"].unique()\n",
    "mean_accuracy_df[\"comp\"] = pd.Categorical(\n",
    "    mean_accuracy_df[\"comp\"],\n",
    "    categories=all_f1score_df[\"comp\"].unique()[\n",
    "        np.argsort([\n",
    "            from_odor_pair_to_num(odor_pair)\n",
    "            for odor_pair in all_f1score_df[\"comp\"].unique()\n",
    "        ])\n",
    "    ],\n",
    "    ordered=True,\n",
    ")\n",
    "\n",
    "\n"
   ]
  },
  {
   "cell_type": "code",
   "execution_count": 145,
   "metadata": {
    "tags": []
   },
   "outputs": [],
   "source": [
    "mean_accuracy_df.to_csv(\n",
    "    \"../notebooks/predict_from_feature_binary_accuracy_2secafodoronset_MOsubtracted_bafcondition_meanfeature.csv\", index=False\n",
    ")\n",
    "\n"
   ]
  },
  {
   "cell_type": "code",
   "execution_count": 95,
   "metadata": {
    "tags": []
   },
   "outputs": [
    {
     "name": "stderr",
     "output_type": "stream",
     "text": [
      "/tmp/ipykernel_363/289103372.py:5: FutureWarning: In a future version of pandas, a length 1 tuple will be returned when iterating over a groupby with a grouper equal to a list of length 1. Don't supply a list with a single grouper to avoid this warning.\n",
      "  for comp, group in mean_accuracy_df.groupby([\"comp\"]):\n"
     ]
    },
    {
     "ename": "ValueError",
     "evalue": "unequal length arrays",
     "output_type": "error",
     "traceback": [
      "\u001b[0;31m---------------------------------------------------------------------------\u001b[0m",
      "\u001b[0;31mValueError\u001b[0m                                Traceback (most recent call last)",
      "Cell \u001b[0;32mIn[95], line 9\u001b[0m\n\u001b[1;32m      6\u001b[0m     bf \u001b[38;5;241m=\u001b[39m group\u001b[38;5;241m.\u001b[39mquery(\u001b[38;5;124m\"\u001b[39m\u001b[38;5;124mcondition == \u001b[39m\u001b[38;5;124m'\u001b[39m\u001b[38;5;124mbf\u001b[39m\u001b[38;5;124m'\u001b[39m\u001b[38;5;124m\"\u001b[39m)[\u001b[38;5;124m\"\u001b[39m\u001b[38;5;124maccuracy\u001b[39m\u001b[38;5;124m\"\u001b[39m]\n\u001b[1;32m      7\u001b[0m     af \u001b[38;5;241m=\u001b[39m group\u001b[38;5;241m.\u001b[39mquery(\u001b[38;5;124m\"\u001b[39m\u001b[38;5;124mcondition == \u001b[39m\u001b[38;5;124m'\u001b[39m\u001b[38;5;124maf\u001b[39m\u001b[38;5;124m'\u001b[39m\u001b[38;5;124m\"\u001b[39m)[\u001b[38;5;124m\"\u001b[39m\u001b[38;5;124maccuracy\u001b[39m\u001b[38;5;124m\"\u001b[39m]\n\u001b[1;32m      8\u001b[0m     ttest_results\u001b[38;5;241m.\u001b[39mappend(\n\u001b[0;32m----> 9\u001b[0m         \u001b[43mstats\u001b[49m\u001b[38;5;241;43m.\u001b[39;49m\u001b[43mttest_rel\u001b[49m\u001b[43m(\u001b[49m\u001b[43mbf\u001b[49m\u001b[43m,\u001b[49m\u001b[43m \u001b[49m\u001b[43maf\u001b[49m\u001b[43m)\u001b[49m\n\u001b[1;32m     10\u001b[0m     )  \u001b[38;5;66;03m# paired t-test for before and after conditions\u001b[39;00m\n\u001b[1;32m     11\u001b[0m ttest_results \u001b[38;5;241m=\u001b[39m pd\u001b[38;5;241m.\u001b[39mDataFrame(\n\u001b[1;32m     12\u001b[0m     ttest_results, columns\u001b[38;5;241m=\u001b[39m[\u001b[38;5;124m\"\u001b[39m\u001b[38;5;124mt_statistic\u001b[39m\u001b[38;5;124m\"\u001b[39m, \u001b[38;5;124m\"\u001b[39m\u001b[38;5;124mp_value\u001b[39m\u001b[38;5;124m\"\u001b[39m], index\u001b[38;5;241m=\u001b[39mall_odor_pairs\n\u001b[1;32m     13\u001b[0m )\n",
      "File \u001b[0;32m~opt/conda/lib/python3.8/site-packages/scipy/stats/_axis_nan_policy.py:502\u001b[0m, in \u001b[0;36m_axis_nan_policy_factory.<locals>.axis_nan_policy_decorator.<locals>.axis_nan_policy_wrapper\u001b[0;34m(***failed resolving arguments***)\u001b[0m\n\u001b[1;32m    500\u001b[0m \u001b[38;5;28;01mif\u001b[39;00m sentinel:\n\u001b[1;32m    501\u001b[0m     samples \u001b[38;5;241m=\u001b[39m _remove_sentinel(samples, paired, sentinel)\n\u001b[0;32m--> 502\u001b[0m res \u001b[38;5;241m=\u001b[39m \u001b[43mhypotest_fun_out\u001b[49m\u001b[43m(\u001b[49m\u001b[38;5;241;43m*\u001b[39;49m\u001b[43msamples\u001b[49m\u001b[43m,\u001b[49m\u001b[43m \u001b[49m\u001b[38;5;241;43m*\u001b[39;49m\u001b[38;5;241;43m*\u001b[39;49m\u001b[43mkwds\u001b[49m\u001b[43m)\u001b[49m\n\u001b[1;32m    503\u001b[0m res \u001b[38;5;241m=\u001b[39m result_to_tuple(res)\n\u001b[1;32m    504\u001b[0m res \u001b[38;5;241m=\u001b[39m _add_reduced_axes(res, reduced_axes, keepdims)\n",
      "File \u001b[0;32m~opt/conda/lib/python3.8/site-packages/scipy/stats/_stats_py.py:7133\u001b[0m, in \u001b[0;36mttest_rel\u001b[0;34m(a, b, axis, nan_policy, alternative)\u001b[0m\n\u001b[1;32m   7131\u001b[0m nb \u001b[38;5;241m=\u001b[39m _get_len(b, axis, \u001b[38;5;124m\"\u001b[39m\u001b[38;5;124msecond argument\u001b[39m\u001b[38;5;124m\"\u001b[39m)\n\u001b[1;32m   7132\u001b[0m \u001b[38;5;28;01mif\u001b[39;00m na \u001b[38;5;241m!=\u001b[39m nb:\n\u001b[0;32m-> 7133\u001b[0m     \u001b[38;5;28;01mraise\u001b[39;00m \u001b[38;5;167;01mValueError\u001b[39;00m(\u001b[38;5;124m'\u001b[39m\u001b[38;5;124munequal length arrays\u001b[39m\u001b[38;5;124m'\u001b[39m)\n\u001b[1;32m   7135\u001b[0m \u001b[38;5;28;01mif\u001b[39;00m na \u001b[38;5;241m==\u001b[39m \u001b[38;5;241m0\u001b[39m \u001b[38;5;129;01mor\u001b[39;00m nb \u001b[38;5;241m==\u001b[39m \u001b[38;5;241m0\u001b[39m:\n\u001b[1;32m   7136\u001b[0m     \u001b[38;5;66;03m# _axis_nan_policy decorator ensures this only happens with 1d input\u001b[39;00m\n\u001b[1;32m   7137\u001b[0m     \u001b[38;5;28;01mreturn\u001b[39;00m TtestResult(np\u001b[38;5;241m.\u001b[39mnan, np\u001b[38;5;241m.\u001b[39mnan, df\u001b[38;5;241m=\u001b[39mnp\u001b[38;5;241m.\u001b[39mnan, alternative\u001b[38;5;241m=\u001b[39mnp\u001b[38;5;241m.\u001b[39mnan,\n\u001b[1;32m   7138\u001b[0m                        standard_error\u001b[38;5;241m=\u001b[39mnp\u001b[38;5;241m.\u001b[39mnan, estimate\u001b[38;5;241m=\u001b[39mnp\u001b[38;5;241m.\u001b[39mnan)\n",
      "\u001b[0;31mValueError\u001b[0m: unequal length arrays"
     ]
    }
   ],
   "source": [
    "# %%\n",
    "# stats\n",
    "# Perform pairwise t-tests between before and after conditions for each odor pair\n",
    "ttest_results = []\n",
    "for comp, group in mean_accuracy_df.groupby([\"comp\"]):\n",
    "    bf = group.query(\"condition == 'bf'\")[\"accuracy\"]\n",
    "    af = group.query(\"condition == 'af'\")[\"accuracy\"]\n",
    "    ttest_results.append(\n",
    "        stats.ttest_rel(bf, af)\n",
    "    )  # paired t-test for before and after conditions\n",
    "ttest_results = pd.DataFrame(\n",
    "    ttest_results, columns=[\"t_statistic\", \"p_value\"], index=all_odor_pairs\n",
    ")\n",
    "\n"
   ]
  },
  {
   "cell_type": "code",
   "execution_count": 53,
   "metadata": {
    "tags": []
   },
   "outputs": [
    {
     "name": "stderr",
     "output_type": "stream",
     "text": [
      "/tmp/ipykernel_363/3471263923.py:2: FutureWarning: In a future version of pandas, a length 1 tuple will be returned when iterating over a groupby with a grouper equal to a list of length 1. Don't supply a list with a single grouper to avoid this warning.\n",
      "  for comp, group in mean_accuracy_df.groupby([\"comp\"]):\n"
     ]
    },
    {
     "ename": "UFuncTypeError",
     "evalue": "ufunc 'subtract' did not contain a loop with signature matching types (dtype('<U16'), dtype('<U16')) -> None",
     "output_type": "error",
     "traceback": [
      "\u001b[0;31m---------------------------------------------------------------------------\u001b[0m",
      "\u001b[0;31mUFuncTypeError\u001b[0m                            Traceback (most recent call last)",
      "Cell \u001b[0;32mIn[53], line 5\u001b[0m\n\u001b[1;32m      2\u001b[0m \u001b[38;5;28;01mfor\u001b[39;00m comp, group \u001b[38;5;129;01min\u001b[39;00m mean_accuracy_df\u001b[38;5;241m.\u001b[39mgroupby([\u001b[38;5;124m\"\u001b[39m\u001b[38;5;124mcomp\u001b[39m\u001b[38;5;124m\"\u001b[39m]):\n\u001b[1;32m      3\u001b[0m     chance_level \u001b[38;5;241m=\u001b[39m np\u001b[38;5;241m.\u001b[39mfull_like(comp, \u001b[38;5;241m0.5\u001b[39m)  \u001b[38;5;66;03m# Create an array of 0.5 with the same shape as bf\u001b[39;00m\n\u001b[1;32m      4\u001b[0m     ttest_results\u001b[38;5;241m.\u001b[39mappend(\n\u001b[0;32m----> 5\u001b[0m         \u001b[43mstats\u001b[49m\u001b[38;5;241;43m.\u001b[39;49m\u001b[43mttest_rel\u001b[49m\u001b[43m(\u001b[49m\u001b[43mcomp\u001b[49m\u001b[43m,\u001b[49m\u001b[43m \u001b[49m\u001b[43mchance_level\u001b[49m\u001b[43m)\u001b[49m\n\u001b[1;32m      6\u001b[0m     )  \u001b[38;5;66;03m# paired t-test for before and after conditions\u001b[39;00m\n\u001b[1;32m      7\u001b[0m ttest_results \u001b[38;5;241m=\u001b[39m pd\u001b[38;5;241m.\u001b[39mDataFrame(\n\u001b[1;32m      8\u001b[0m     ttest_results, columns\u001b[38;5;241m=\u001b[39m[\u001b[38;5;124m\"\u001b[39m\u001b[38;5;124mt_statistic\u001b[39m\u001b[38;5;124m\"\u001b[39m, \u001b[38;5;124m\"\u001b[39m\u001b[38;5;124mp_value\u001b[39m\u001b[38;5;124m\"\u001b[39m], index\u001b[38;5;241m=\u001b[39mall_odor_pairs\n\u001b[1;32m      9\u001b[0m )\n",
      "File \u001b[0;32m~opt/conda/lib/python3.8/site-packages/scipy/stats/_axis_nan_policy.py:502\u001b[0m, in \u001b[0;36m_axis_nan_policy_factory.<locals>.axis_nan_policy_decorator.<locals>.axis_nan_policy_wrapper\u001b[0;34m(***failed resolving arguments***)\u001b[0m\n\u001b[1;32m    500\u001b[0m \u001b[38;5;28;01mif\u001b[39;00m sentinel:\n\u001b[1;32m    501\u001b[0m     samples \u001b[38;5;241m=\u001b[39m _remove_sentinel(samples, paired, sentinel)\n\u001b[0;32m--> 502\u001b[0m res \u001b[38;5;241m=\u001b[39m \u001b[43mhypotest_fun_out\u001b[49m\u001b[43m(\u001b[49m\u001b[38;5;241;43m*\u001b[39;49m\u001b[43msamples\u001b[49m\u001b[43m,\u001b[49m\u001b[43m \u001b[49m\u001b[38;5;241;43m*\u001b[39;49m\u001b[38;5;241;43m*\u001b[39;49m\u001b[43mkwds\u001b[49m\u001b[43m)\u001b[49m\n\u001b[1;32m    503\u001b[0m res \u001b[38;5;241m=\u001b[39m result_to_tuple(res)\n\u001b[1;32m    504\u001b[0m res \u001b[38;5;241m=\u001b[39m _add_reduced_axes(res, reduced_axes, keepdims)\n",
      "File \u001b[0;32m~opt/conda/lib/python3.8/site-packages/scipy/stats/_stats_py.py:7143\u001b[0m, in \u001b[0;36mttest_rel\u001b[0;34m(a, b, axis, nan_policy, alternative)\u001b[0m\n\u001b[1;32m   7140\u001b[0m n \u001b[38;5;241m=\u001b[39m a\u001b[38;5;241m.\u001b[39mshape[axis]\n\u001b[1;32m   7141\u001b[0m df \u001b[38;5;241m=\u001b[39m n \u001b[38;5;241m-\u001b[39m \u001b[38;5;241m1\u001b[39m\n\u001b[0;32m-> 7143\u001b[0m d \u001b[38;5;241m=\u001b[39m (\u001b[43ma\u001b[49m\u001b[43m \u001b[49m\u001b[38;5;241;43m-\u001b[39;49m\u001b[43m \u001b[49m\u001b[43mb\u001b[49m)\u001b[38;5;241m.\u001b[39mastype(np\u001b[38;5;241m.\u001b[39mfloat64)\n\u001b[1;32m   7144\u001b[0m v \u001b[38;5;241m=\u001b[39m _var(d, axis, ddof\u001b[38;5;241m=\u001b[39m\u001b[38;5;241m1\u001b[39m)\n\u001b[1;32m   7145\u001b[0m dm \u001b[38;5;241m=\u001b[39m np\u001b[38;5;241m.\u001b[39mmean(d, axis)\n",
      "\u001b[0;31mUFuncTypeError\u001b[0m: ufunc 'subtract' did not contain a loop with signature matching types (dtype('<U16'), dtype('<U16')) -> None"
     ]
    }
   ],
   "source": [
    "ttest_results = []\n",
    "for comp, group in mean_accuracy_df.groupby([\"comp\"]):\n",
    "    chance_level = np.full_like(comp, 0.5)  # Create an array of 0.5 with the same shape as bf\n",
    "    ttest_results.append(\n",
    "        stats.ttest_rel(comp, chance_level)\n",
    "    )  # paired t-test for before and after conditions\n",
    "ttest_results = pd.DataFrame(\n",
    "    ttest_results, columns=[\"t_statistic\", \"p_value\"], index=all_odor_pairs\n",
    ")"
   ]
  },
  {
   "cell_type": "raw",
   "metadata": {},
   "source": [
    "print(chance_level)"
   ]
  },
  {
   "cell_type": "code",
   "execution_count": 59,
   "metadata": {
    "tags": []
   },
   "outputs": [
    {
     "name": "stdout",
     "output_type": "stream",
     "text": [
      "1     0.43\n",
      "13    0.61\n",
      "25    0.78\n",
      "37    0.50\n",
      "49    0.56\n",
      "61    0.48\n",
      "73    0.42\n",
      "85    0.48\n",
      "Name: accuracy, dtype: float64\n"
     ]
    }
   ],
   "source": [
    "print(bf)"
   ]
  },
  {
   "cell_type": "code",
   "execution_count": 58,
   "metadata": {
    "tags": []
   },
   "outputs": [
    {
     "ename": "AttributeError",
     "evalue": "'list' object has no attribute 'iterrows'",
     "output_type": "error",
     "traceback": [
      "\u001b[0;31m---------------------------------------------------------------------------\u001b[0m",
      "\u001b[0;31mAttributeError\u001b[0m                            Traceback (most recent call last)",
      "Cell \u001b[0;32mIn[58], line 41\u001b[0m\n\u001b[1;32m     37\u001b[0m         \u001b[38;5;28;01mreturn\u001b[39;00m \u001b[38;5;124m\"\u001b[39m\u001b[38;5;124m\"\u001b[39m\n\u001b[1;32m     40\u001b[0m \u001b[38;5;66;03m# add asterisks for significant differences\u001b[39;00m\n\u001b[0;32m---> 41\u001b[0m \u001b[38;5;28;01mfor\u001b[39;00m i, (_, row) \u001b[38;5;129;01min\u001b[39;00m \u001b[38;5;28menumerate\u001b[39m(\u001b[43mttest_results\u001b[49m\u001b[38;5;241;43m.\u001b[39;49m\u001b[43miterrows\u001b[49m()):\n\u001b[1;32m     42\u001b[0m     \u001b[38;5;28;01mif\u001b[39;00m row[\u001b[38;5;124m\"\u001b[39m\u001b[38;5;124mp_value\u001b[39m\u001b[38;5;124m\"\u001b[39m] \u001b[38;5;241m<\u001b[39m \u001b[38;5;241m0.05\u001b[39m:\n\u001b[1;32m     43\u001b[0m         plt\u001b[38;5;241m.\u001b[39mtext(\n\u001b[1;32m     44\u001b[0m             i,\n\u001b[1;32m     45\u001b[0m             \u001b[38;5;241m1\u001b[39m,\n\u001b[0;32m   (...)\u001b[0m\n\u001b[1;32m     51\u001b[0m             fontweight\u001b[38;5;241m=\u001b[39m\u001b[38;5;124m\"\u001b[39m\u001b[38;5;124mbold\u001b[39m\u001b[38;5;124m\"\u001b[39m,\n\u001b[1;32m     52\u001b[0m         )\n",
      "\u001b[0;31mAttributeError\u001b[0m: 'list' object has no attribute 'iterrows'"
     ]
    },
    {
     "data": {
      "image/png": "[encoded data removed]",
      "text/plain": [
       "<Figure size 640x480 with 1 Axes>"
      ]
     },
     "metadata": {},
     "output_type": "display_data"
    }
   ],
   "source": [
    "# %%\n",
    "# visualization\n",
    "# visualization\n",
    "sns.barplot(\n",
    "    data=mean_accuracy_df,\n",
    "    x=\"comp\",\n",
    "    y=\"accuracy\",\n",
    "    hue=\"condition\",\n",
    "    # change color palette to grey and red\n",
    "    palette={\"bf\": \"#989898\", \"af\": \"#FD7F82\"},\n",
    "    hue_order=[\"bf\", \"af\"],\n",
    "    # add black frame around bars\n",
    "    edgecolor=\"black\",\n",
    "    errorbar=\"se\",\n",
    "    # add caps to error bars\n",
    "    capsize=0.3,\n",
    ")\n",
    "sns.stripplot(\n",
    "    data=mean_accuracy_df,\n",
    "    x=\"comp\",\n",
    "    y=\"accuracy\",\n",
    "    hue=\"condition\",\n",
    "    palette={\"bf\": \"#2E2E2E\", \"af\": \"#FC0307\"},\n",
    "    hue_order=[\"bf\", \"af\"],\n",
    "    dodge=True,\n",
    ")\n",
    "\n",
    "\n",
    "def p2stars(p):\n",
    "    if p < 0.001:\n",
    "        return \"***\"\n",
    "    elif p < 0.01:\n",
    "        return \"**\"\n",
    "    elif p < 0.05:\n",
    "        return \"*\"\n",
    "    else:\n",
    "        return \"\"\n",
    "\n",
    "\n",
    "# add asterisks for significant differences\n",
    "for i, (_, row) in enumerate(ttest_results.iterrows()):\n",
    "    if row[\"p_value\"] < 0.05:\n",
    "        plt.text(\n",
    "            i,\n",
    "            1,\n",
    "            p2stars(row[\"p_value\"]),\n",
    "            ha=\"center\",\n",
    "            va=\"center\",\n",
    "            color=\"black\",\n",
    "            fontsize=12,\n",
    "            fontweight=\"bold\",\n",
    "        )\n",
    "\n",
    "# legend outside of the plot\n",
    "plt.legend(title=\"Condition\", bbox_to_anchor=(1, 1), loc=\"upper left\")\n",
    "plt.xlabel(\"\")\n",
    "sns.despine()\n",
    "plt.savefig(\n",
    "    \"../notebooks/predict_from_feature_binary_accuracy_mosubtracted.svg\", dpi=300, bbox_inches=\"tight\"\n",
    ")\n"
   ]
  },
  {
   "cell_type": "code",
   "execution_count": null,
   "metadata": {},
   "outputs": [],
   "source": []
  }
 ],
 "metadata": {
  "kernelspec": {
   "display_name": "Python 3 (ipykernel)",
   "language": "python",
   "name": "python3"
  },
  "language_info": {
   "codemirror_mode": {
    "name": "ipython",
    "version": 3
   },
   "file_extension": ".py",
   "mimetype": "text/x-python",
   "name": "python",
   "nbconvert_exporter": "python",
   "pygments_lexer": "ipython3",
   "version": "3.8.16"
  }
 },
 "nbformat": 4,
 "nbformat_minor": 4
}
