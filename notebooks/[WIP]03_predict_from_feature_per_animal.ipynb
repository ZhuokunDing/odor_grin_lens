{
 "cells": [
  {
   "cell_type": "code",
   "execution_count": 2,
   "id": "8dfd2b49-3aaa-47f9-b994-789c5bef5a6e",
   "metadata": {
    "tags": []
   },
   "outputs": [],
   "source": [
    "import pathlib\n",
    "import pandas as pd\n",
    "import numpy as np\n",
    "from itertools import combinations\n",
    "import re\n",
    "# plotting libraries\n",
    "from matplotlib import pyplot as plt\n",
    "import seaborn as sns\n",
    "import seaborn.objects as so\n",
    "from seaborn import axes_style\n",
    "# machine learning libraries\n",
    "from sklearn.linear_model import LogisticRegression\n",
    "from sklearn.svm import SVC\n",
    "from sklearn.dummy import DummyClassifier\n",
    "from sklearn.preprocessing import StandardScaler\n",
    "from sklearn.pipeline import make_pipeline\n",
    "from sklearn.model_selection import train_test_split, RepeatedStratifiedKFold, StratifiedShuffleSplit\n",
    "from sklearn.metrics import confusion_matrix, precision_score, recall_score, f1_score, classification_report, accuracy_score\n",
    "# stats\n",
    "import statsmodels.api as sm\n",
    "from statsmodels import stats as sms\n",
    "import statsmodels.formula.api as smf\n",
    "\n",
    "import logging\n",
    "logger = logging.getLogger()\n",
    "logger.setLevel(logging.INFO)\n"
   ]
  },
  {
   "attachments": {},
   "cell_type": "markdown",
   "id": "ab5441c5-e6f5-4b3b-9a5f-80e753a54b77",
   "metadata": {},
   "source": [
    "# Parameters"
   ]
  },
  {
   "cell_type": "code",
   "execution_count": 3,
   "id": "8697a848-72ce-4005-9b48-f2bd50a99b4b",
   "metadata": {
    "tags": []
   },
   "outputs": [],
   "source": [
    "AF_DATA_DIR = '../data/extracted_feature_032023_afcondition_2'\n",
    "BF_DATA_DIR = '../data/extracted_feature_031023_bfcondition_2'\n",
    "RNG_SEED = 1"
   ]
  },
  {
   "attachments": {},
   "cell_type": "markdown",
   "id": "bce58455-e9b5-4226-8873-a347baff3395",
   "metadata": {},
   "source": [
    "# Model performance"
   ]
  },
  {
   "attachments": {},
   "cell_type": "markdown",
   "id": "d972d5f4-28ea-477a-9517-733dacbe52a2",
   "metadata": {},
   "source": [
    "## Utility functions"
   ]
  },
  {
   "cell_type": "code",
   "execution_count": 37,
   "id": "784e752a-7ae7-4d94-b51c-190e9763639f",
   "metadata": {
    "tags": []
   },
   "outputs": [],
   "source": [
    "def model_performance(data, rng=np.random.default_rng(0), num_shuffle=1000, classifier=LogisticRegression()):\n",
    "    \"\"\"\n",
    "    Fit a vanilla logistic regression and report f1 score per odor and overall accuracy score through bootstrapping.\n",
    "    Fitted model is not saved or returned!\n",
    "\n",
    "    Args:\n",
    "        data: pd.DataFrame  # dataframe with columns 'odor', 'exp' and a number of 'feature' columns, 'odor' column is the prediction target, columns prefixed with 'feature' will be used as predictors of the regression model, 'exp' column is kept for record keeping purposes\n",
    "        rng: numpy.random._generator.Generator  # random generator used in cross validation, fix it to reproduce the same results\n",
    "        num_shuffle: int  # number of shuffles to estimate variance of model performance\n",
    "    Return:\n",
    "        f1score_df: pd.DataFrame  # dataframe recording cross validated f1 scores, each row is one cross validation sample\n",
    "        accuracy_df: pd.DataFrame  # dataframe recording cross validated accuracy scores\n",
    "    \"\"\"\n",
    "    # split data to X and y\n",
    "    X = data.filter(like=\"feature\").to_numpy()\n",
    "    y = data.odor.to_numpy()\n",
    "    # data quality control\n",
    "    unique_odor, counts = np.unique(y, return_counts=True)\n",
    "    assert len(np.unique(counts)) == 1, \"Imbalanced experimental design!\"\n",
    "    assert data.exp.nunique() == 1, \"More than one experiment is found!\"\n",
    "    assert data.cond.nunique() == 1, \"More than one condition is found!\"\n",
    "    assert data.isna().sum().sum() == 0, \"NaN values found in dataset!\"\n",
    "    # log information about the dataset\n",
    "    logging.info(\n",
    "        \"There are %d trials where %d odors are presented %d times\",\n",
    "        len(y),\n",
    "        len(unique_odor),\n",
    "        np.unique(counts)[0],\n",
    "    )\n",
    "    logging.info(\n",
    "        \"%d features were extracted from population neural responses\",\n",
    "        X.shape[1],\n",
    "    )\n",
    "    # configure model\n",
    "    model = make_pipeline(\n",
    "        StandardScaler(), classifier\n",
    "    )  # classification pipeline combines a standardization step (substract by mean and divide by std) and a vanilla logistic regression model\n",
    "    # estimate variance of model performance through 5x2 cross validation\n",
    "    cv = StratifiedShuffleSplit(\n",
    "        n_splits=num_shuffle, test_size=.5, random_state=np.random.RandomState(rng.bit_generator)\n",
    "    )\n",
    "    f1score = []\n",
    "    accuracy = []\n",
    "    f1score_train = []\n",
    "    accuracy_train = []\n",
    "    for train_idx, test_idx in cv.split(X, y):\n",
    "        # train model on the training set\n",
    "        model = model.fit(X[train_idx], y[train_idx])\n",
    "        # evaluate on train set\n",
    "        f1score_train.append(f1_score(y[train_idx], model.predict(X[train_idx]), average=None))\n",
    "        accuracy_train.append(accuracy_score(y[train_idx], model.predict(X[train_idx])))\n",
    "        # evaluate on test set\n",
    "        f1score.append(f1_score(y[test_idx], model.predict(X[test_idx]), average=None))\n",
    "        accuracy.append(accuracy_score(y[test_idx], model.predict(X[test_idx])))\n",
    "\n",
    "    f1score = np.stack(f1score)\n",
    "    f1score_train = np.stack(f1score_train)\n",
    "    accuracy = np.stack(accuracy)\n",
    "    accuracy_train = np.stack(accuracy_train)\n",
    "    f1score_df = pd.DataFrame(\n",
    "        data=f1score,\n",
    "        index=np.arange(f1score.shape[0]),\n",
    "        columns=model.classes_,\n",
    "    )\n",
    "    f1score_df_train = pd.DataFrame(\n",
    "        data=f1score_train,\n",
    "        index=np.arange(f1score_train.shape[0]),\n",
    "        columns=model.classes_,\n",
    "    )\n",
    "\n",
    "    f1score_df = pd.melt(f1score_df, var_name=\"odor\", value_name=\"f1_score\", ignore_index=False)\n",
    "    f1score_df_train = pd.melt(f1score_df_train, var_name=\"odor\", value_name=\"f1_score\", ignore_index=False)\n",
    "    f1score_df[\"odor\"] = pd.Categorical(f1score_df[\"odor\"])\n",
    "    f1score_df[\"exp\"] = data.exp.unique()[0]\n",
    "    f1score_df[\"cond\"] = data.cond.unique()[0]\n",
    "    f1score_df[\"tier\"] = 'test'\n",
    "    f1score_df_train[\"odor\"] = pd.Categorical(f1score_df_train[\"odor\"])\n",
    "    f1score_df_train[\"exp\"] = data.exp.unique()[0]\n",
    "    f1score_df_train[\"cond\"] = data.cond.unique()[0]\n",
    "    f1score_df_train[\"tier\"] = 'train'\n",
    "    f1score_df = pd.concat([f1score_df, f1score_df_train])\n",
    "    accuracy_df = pd.Series(accuracy).to_frame(\"accuracy\")\n",
    "    accuracy_df_train = pd.Series(accuracy_train).to_frame(\"accuracy\")\n",
    "    accuracy_df[\"exp\"] = data.exp.unique()[0]\n",
    "    accuracy_df[\"cond\"] = data.cond.unique()[0]\n",
    "    accuracy_df[\"tier\"] = 'test'\n",
    "    accuracy_df_train[\"exp\"] = data.exp.unique()[0]\n",
    "    accuracy_df_train[\"cond\"] = data.cond.unique()[0]\n",
    "    accuracy_df_train[\"tier\"] = 'train'\n",
    "    accuracy_df = pd.concat([accuracy_df, accuracy_df_train])\n",
    "    return f1score_df, accuracy_df, model"
   ]
  },
  {
   "attachments": {},
   "cell_type": "markdown",
   "id": "34eef33e-7a33-44f4-b716-d419da101fd5",
   "metadata": {},
   "source": [
    "## Load data"
   ]
  },
  {
   "cell_type": "code",
   "execution_count": 9,
   "id": "c05fd01f-a1fa-4ab0-a86d-cd17d64294ee",
   "metadata": {
    "tags": []
   },
   "outputs": [
    {
     "name": "stderr",
     "output_type": "stream",
     "text": [
      "INFO:root:loaded dataset: ../data/extracted_feature_031023_bfcondition_2/../data/extracted_feature_031023_bfcondition_2/031023_A62-1_feature_odorbfcondition.csv\n",
      "INFO:root:loaded dataset: ../data/extracted_feature_031023_bfcondition_2/../data/extracted_feature_031023_bfcondition_2/031023_A60Nt_feature_odorbfcondition.csv\n",
      "INFO:root:loaded dataset: ../data/extracted_feature_031023_bfcondition_2/../data/extracted_feature_031023_bfcondition_2/031023_A62Nt_feature_odorbfcondition.csv\n",
      "INFO:root:loaded dataset: ../data/extracted_feature_031023_bfcondition_2/../data/extracted_feature_031023_bfcondition_2/031023_A60R1_feature_odorbfcondition.csv\n",
      "INFO:root:loaded dataset: ../data/extracted_feature_032023_afcondition_2/../data/extracted_feature_032023_afcondition_2/032023_A60R1_feature_odorafcondition.csv\n",
      "INFO:root:loaded dataset: ../data/extracted_feature_032023_afcondition_2/../data/extracted_feature_032023_afcondition_2/032023_A62-1_feature_odorafcondition.csv\n",
      "INFO:root:loaded dataset: ../data/extracted_feature_032023_afcondition_2/../data/extracted_feature_032023_afcondition_2/032023_A60Nt_feature_odorafcondition.csv\n",
      "INFO:root:loaded dataset: ../data/extracted_feature_032023_afcondition_2/../data/extracted_feature_032023_afcondition_2/032023_A62Nt_feature_odorafcondition.csv\n"
     ]
    }
   ],
   "source": [
    "# random seed used for all downstream analysis\n",
    "rng = np.random.default_rng(RNG_SEED)\n",
    "# load all data\n",
    "data = []\n",
    "for filename in pathlib.Path(BF_DATA_DIR).glob('*.csv'):\n",
    "    _data = pd.read_csv(filename, header=None)  # load csv file\n",
    "    _data.columns = [f'feature_{i}' for i in range(len(_data.columns)-1)] + ['odor']  # rename columns\n",
    "    _data['exp'] = re.findall('(?<=_).*?(?=_)', filename.stem)[0]  # log animal name\n",
    "    _data['cond'] = 'before'\n",
    "    data.append(_data)\n",
    "    logging.info(f'loaded dataset: {BF_DATA_DIR}/{filename}')\n",
    "    \n",
    "for filename in pathlib.Path(AF_DATA_DIR).glob('*.csv'):\n",
    "    _data = pd.read_csv(filename, header=None)  # load csv file\n",
    "    _data.columns = [f'feature_{i}' for i in range(len(_data.columns)-1)] + ['odor']  # rename columns\n",
    "    _data['exp'] = re.findall('(?<=_).*?(?=_)', filename.stem)[0]  # log experiment name as file name\n",
    "    _data['cond'] = 'after'\n",
    "    data.append(_data)\n",
    "    logging.info(f'loaded dataset: {AF_DATA_DIR}/{filename}')\n",
    "data = pd.concat(data)"
   ]
  },
  {
   "cell_type": "code",
   "execution_count": 10,
   "id": "901b140e",
   "metadata": {},
   "outputs": [
    {
     "data": {
      "text/html": [
       "<div>\n",
       "<style scoped>\n",
       "    .dataframe tbody tr th:only-of-type {\n",
       "        vertical-align: middle;\n",
       "    }\n",
       "\n",
       "    .dataframe tbody tr th {\n",
       "        vertical-align: top;\n",
       "    }\n",
       "\n",
       "    .dataframe thead th {\n",
       "        text-align: right;\n",
       "    }\n",
       "</style>\n",
       "<table border=\"1\" class=\"dataframe\">\n",
       "  <thead>\n",
       "    <tr style=\"text-align: right;\">\n",
       "      <th></th>\n",
       "      <th>odor</th>\n",
       "      <th>exp</th>\n",
       "      <th>cond</th>\n",
       "    </tr>\n",
       "  </thead>\n",
       "  <tbody>\n",
       "    <tr>\n",
       "      <th>0</th>\n",
       "      <td>1</td>\n",
       "      <td>A62-1</td>\n",
       "      <td>before</td>\n",
       "    </tr>\n",
       "    <tr>\n",
       "      <th>1</th>\n",
       "      <td>1</td>\n",
       "      <td>A62-1</td>\n",
       "      <td>before</td>\n",
       "    </tr>\n",
       "    <tr>\n",
       "      <th>2</th>\n",
       "      <td>1</td>\n",
       "      <td>A62-1</td>\n",
       "      <td>before</td>\n",
       "    </tr>\n",
       "    <tr>\n",
       "      <th>3</th>\n",
       "      <td>1</td>\n",
       "      <td>A62-1</td>\n",
       "      <td>before</td>\n",
       "    </tr>\n",
       "    <tr>\n",
       "      <th>4</th>\n",
       "      <td>1</td>\n",
       "      <td>A62-1</td>\n",
       "      <td>before</td>\n",
       "    </tr>\n",
       "    <tr>\n",
       "      <th>...</th>\n",
       "      <td>...</td>\n",
       "      <td>...</td>\n",
       "      <td>...</td>\n",
       "    </tr>\n",
       "    <tr>\n",
       "      <th>35</th>\n",
       "      <td>4</td>\n",
       "      <td>A62Nt</td>\n",
       "      <td>after</td>\n",
       "    </tr>\n",
       "    <tr>\n",
       "      <th>36</th>\n",
       "      <td>4</td>\n",
       "      <td>A62Nt</td>\n",
       "      <td>after</td>\n",
       "    </tr>\n",
       "    <tr>\n",
       "      <th>37</th>\n",
       "      <td>4</td>\n",
       "      <td>A62Nt</td>\n",
       "      <td>after</td>\n",
       "    </tr>\n",
       "    <tr>\n",
       "      <th>38</th>\n",
       "      <td>4</td>\n",
       "      <td>A62Nt</td>\n",
       "      <td>after</td>\n",
       "    </tr>\n",
       "    <tr>\n",
       "      <th>39</th>\n",
       "      <td>4</td>\n",
       "      <td>A62Nt</td>\n",
       "      <td>after</td>\n",
       "    </tr>\n",
       "  </tbody>\n",
       "</table>\n",
       "<p>320 rows × 3 columns</p>\n",
       "</div>"
      ],
      "text/plain": [
       "    odor    exp    cond\n",
       "0      1  A62-1  before\n",
       "1      1  A62-1  before\n",
       "2      1  A62-1  before\n",
       "3      1  A62-1  before\n",
       "4      1  A62-1  before\n",
       "..   ...    ...     ...\n",
       "35     4  A62Nt   after\n",
       "36     4  A62Nt   after\n",
       "37     4  A62Nt   after\n",
       "38     4  A62Nt   after\n",
       "39     4  A62Nt   after\n",
       "\n",
       "[320 rows x 3 columns]"
      ]
     },
     "execution_count": 10,
     "metadata": {},
     "output_type": "execute_result"
    }
   ],
   "source": [
    "# select columns without feature prefix\n",
    "data.filter(regex='^(?!feature_)')"
   ]
  },
  {
   "attachments": {},
   "cell_type": "markdown",
   "id": "f7434cdc-6e09-463c-9ff2-14ba58fb12b5",
   "metadata": {},
   "source": [
    "## Model training"
   ]
  },
  {
   "cell_type": "code",
   "execution_count": 38,
   "id": "a9889af1-d837-4253-a8c3-775c43fb0f4d",
   "metadata": {
    "tags": []
   },
   "outputs": [
    {
     "name": "stderr",
     "output_type": "stream",
     "text": [
      "INFO:root:Training models for A60Nt, after condition:\n",
      "INFO:root:There are 30 trials where 3 odors are presented 10 times\n",
      "INFO:root:120 features were extracted from population neural responses\n",
      "INFO:root:Training models for A60Nt, before condition:\n",
      "INFO:root:There are 30 trials where 3 odors are presented 10 times\n",
      "INFO:root:120 features were extracted from population neural responses\n",
      "INFO:root:Training models for A60R1, after condition:\n",
      "INFO:root:There are 30 trials where 3 odors are presented 10 times\n",
      "INFO:root:80 features were extracted from population neural responses\n",
      "INFO:root:Training models for A60R1, before condition:\n",
      "INFO:root:There are 30 trials where 3 odors are presented 10 times\n",
      "INFO:root:170 features were extracted from population neural responses\n",
      "INFO:root:Training models for A62-1, after condition:\n",
      "INFO:root:There are 30 trials where 3 odors are presented 10 times\n",
      "INFO:root:125 features were extracted from population neural responses\n",
      "INFO:root:Training models for A62-1, before condition:\n",
      "INFO:root:There are 30 trials where 3 odors are presented 10 times\n",
      "INFO:root:140 features were extracted from population neural responses\n",
      "INFO:root:Training models for A62Nt, after condition:\n",
      "INFO:root:There are 30 trials where 3 odors are presented 10 times\n",
      "INFO:root:110 features were extracted from population neural responses\n",
      "INFO:root:Training models for A62Nt, before condition:\n",
      "INFO:root:There are 30 trials where 3 odors are presented 10 times\n",
      "INFO:root:165 features were extracted from population neural responses\n"
     ]
    }
   ],
   "source": [
    "# train data by experiment\n",
    "f1score_df = []\n",
    "accuracy_df = []\n",
    "models = []\n",
    "for (exp, cond), _data in data.groupby(['exp', 'cond']):\n",
    "    logging.info(f'Training models for {exp}, {cond} condition:')\n",
    "    _data = _data.dropna(axis=1)  # drop feature columns containing nans\n",
    "    _data = _data.query('odor != 1')  # remove odor 1\n",
    "    _f1score_df, _accuracy_df, model = model_performance(_data, rng, classifier=LogisticRegression())\n",
    "   \n",
    "    f1score_df.append(_f1score_df)\n",
    "    accuracy_df.append(_accuracy_df)\n",
    "accuracy_df = pd.concat(accuracy_df)\n",
    "f1score_df = pd.concat(f1score_df)\n",
    "models.append(model)"
   ]
  },
  {
   "cell_type": "code",
   "execution_count": 46,
   "id": "a37bce3a",
   "metadata": {},
   "outputs": [
    {
     "data": {
      "text/plain": [
       "(3, 165)"
      ]
     },
     "execution_count": 46,
     "metadata": {},
     "output_type": "execute_result"
    }
   ],
   "source": [
    "models[0].steps[1][1].coef_.shape"
   ]
  },
  {
   "cell_type": "code",
   "execution_count": 30,
   "id": "890bcb72",
   "metadata": {},
   "outputs": [
    {
     "data": {
      "text/plain": [
       "<matplotlib.lines.Line2D at 0x7f7f6d48b940>"
      ]
     },
     "execution_count": 30,
     "metadata": {},
     "output_type": "execute_result"
    },
    {
     "data": {
      "image/png": "[encoded data removed]",
      "text/plain": [
       "<Figure size 640x480 with 1 Axes>"
      ]
     },
     "metadata": {},
     "output_type": "display_data"
    }
   ],
   "source": [
    "sns.barplot(data=accuracy_df.query('tier==\"train\"'), x='exp', y='accuracy', hue='cond', errorbar=(\"pi\", 95), )\n",
    "plt.axhline(1/len(np.unique(data.odor)), color='k', linestyle='--')"
   ]
  },
  {
   "cell_type": "code",
   "execution_count": 31,
   "id": "b17e66f2",
   "metadata": {},
   "outputs": [
    {
     "data": {
      "text/plain": [
       "<matplotlib.lines.Line2D at 0x7f7f6d3371f0>"
      ]
     },
     "execution_count": 31,
     "metadata": {},
     "output_type": "execute_result"
    },
    {
     "data": {
      "image/png": "[encoded data removed]",
      "text/plain": [
       "<Figure size 640x480 with 1 Axes>"
      ]
     },
     "metadata": {},
     "output_type": "display_data"
    }
   ],
   "source": [
    "sns.barplot(data=accuracy_df.query('tier==\"test\"'), x='exp', y='accuracy', hue='cond', errorbar=(\"pi\", 95), )\n",
    "plt.axhline(1/len(np.unique(data.odor)), color='k', linestyle='--')"
   ]
  },
  {
   "cell_type": "code",
   "execution_count": 33,
   "id": "1e940ddb",
   "metadata": {},
   "outputs": [
    {
     "data": {
      "text/plain": [
       "<Axes: xlabel='exp', ylabel='delta_accuracy'>"
      ]
     },
     "execution_count": 33,
     "metadata": {},
     "output_type": "execute_result"
    },
    {
     "data": {
      "image/png": "[encoded data removed]",
      "text/plain": [
       "<Figure size 640x480 with 1 Axes>"
      ]
     },
     "metadata": {},
     "output_type": "display_data"
    }
   ],
   "source": [
    "delta_accuracy_df = (\n",
    "    accuracy_df.query('tier==\"test\"').reset_index()\n",
    "    .query('cond == \"after\"')\n",
    "    .merge(\n",
    "        accuracy_df.query('tier==\"test\"').reset_index().query('cond == \"before\"'),\n",
    "        on=[\"exp\", \"index\"],\n",
    "        suffixes=(\"_after\", \"_before\"),\n",
    "    )\n",
    ")\n",
    "delta_accuracy_df[\"delta_accuracy\"] = (\n",
    "    delta_accuracy_df[\"accuracy_after\"] - delta_accuracy_df[\"accuracy_before\"]\n",
    ")\n",
    "sns.barplot(\n",
    "    data=delta_accuracy_df,\n",
    "    x=\"exp\",\n",
    "    y=\"delta_accuracy\",\n",
    "    errorbar=(\"pi\", 95),\n",
    ")"
   ]
  },
  {
   "cell_type": "code",
   "execution_count": 36,
   "id": "68cfd25d",
   "metadata": {},
   "outputs": [
    {
     "data": {
      "text/plain": [
       "<seaborn.axisgrid.FacetGrid at 0x7f7f6cc17d00>"
      ]
     },
     "execution_count": 36,
     "metadata": {},
     "output_type": "execute_result"
    },
    {
     "data": {
      "image/png": "[encoded data removed]",
      "text/plain": [
       "<Figure size 2094.88x500 with 4 Axes>"
      ]
     },
     "metadata": {},
     "output_type": "display_data"
    }
   ],
   "source": [
    "sns.catplot(kind='bar', data=f1score_df.query('tier==\"test\"'), x='odor', y='f1_score', hue='cond', col='exp', errorbar=(\"pi\", 95), )\n",
    "# plt.axhline(1/len(np.unique(data.odor)), color='k', linestyle='--')"
   ]
  },
  {
   "cell_type": "code",
   "execution_count": 35,
   "id": "c84cd1f6",
   "metadata": {},
   "outputs": [
    {
     "data": {
      "text/plain": [
       "<Axes: xlabel='exp', ylabel='delta_f1score'>"
      ]
     },
     "execution_count": 35,
     "metadata": {},
     "output_type": "execute_result"
    },
    {
     "data": {
      "image/png": "[encoded data removed]",
      "text/plain": [
       "<Figure size 640x480 with 1 Axes>"
      ]
     },
     "metadata": {},
     "output_type": "display_data"
    }
   ],
   "source": [
    "delta_f1score_df = (\n",
    "    f1score_df.query('tier==\"test\"').reset_index()\n",
    "    .query('cond == \"after\"')\n",
    "    .merge(\n",
    "        f1score_df.query('tier==\"test\"').reset_index().query('cond == \"before\"'),\n",
    "        on=[\"odor\", \"exp\", \"index\"],\n",
    "        suffixes=(\"_after\", \"_before\"),\n",
    "    )\n",
    ")\n",
    "delta_f1score_df[\"delta_f1score\"] = (\n",
    "    delta_f1score_df[\"f1_score_after\"] - delta_f1score_df[\"f1_score_before\"]\n",
    ")\n",
    "sns.barplot(data=delta_f1score_df, x='exp', y='delta_f1score', hue='odor', errorbar=(\"pi\", 95), )"
   ]
  }
 ],
 "metadata": {
  "kernelspec": {
   "display_name": "Python 3 (ipykernel)",
   "language": "python",
   "name": "python3"
  },
  "language_info": {
   "codemirror_mode": {
    "name": "ipython",
    "version": 3
   },
   "file_extension": ".py",
   "mimetype": "text/x-python",
   "name": "python",
   "nbconvert_exporter": "python",
   "pygments_lexer": "ipython3",
   "version": "3.8.16"
  }
 },
 "nbformat": 4,
 "nbformat_minor": 5
}
